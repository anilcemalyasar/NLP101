{
 "cells": [
  {
   "cell_type": "code",
   "execution_count": 1,
   "id": "0344187c",
   "metadata": {},
   "outputs": [],
   "source": [
    "import pandas as pd\n",
    "import matplotlib.pyplot as plt\n",
    "from wordcloud import WordCloud\n",
    "from nltk.corpus import stopwords\n",
    "from textblob import Word, TextBlob\n",
    "from sklearn.model_selection import cross_val_score, train_test_split\n",
    "from sklearn.feature_extraction.text import TfidfVectorizer, CountVectorizer\n",
    "from sklearn.ensemble import RandomForestClassifier\n",
    "from sklearn.linear_model import LogisticRegression\n",
    "from sklearn.metrics import classification_report\n",
    "from nltk.sentiment import SentimentIntensityAnalyzer\n",
    "from warnings import filterwarnings"
   ]
  },
  {
   "cell_type": "code",
   "execution_count": 3,
   "id": "b2d65157",
   "metadata": {},
   "outputs": [],
   "source": [
    "filterwarnings('ignore')\n",
    "pd.set_option('display.max_columns', None)\n",
    "pd.set_option('display.float_format', lambda x: '%.2f' % x)\n",
    "pd.set_option('display.width', 200)"
   ]
  },
  {
   "cell_type": "markdown",
   "id": "dd0e384b",
   "metadata": {},
   "source": [
    "## TEXT PRE-PROCESSING\n",
    "### Görev 1: Metin ön işleme işlemleri.\n",
    "        # 1. amazon.xlsx datasını okutunuz.\n",
    "        # 2. \"Review\" değişkeni üzerinde\n",
    "            # a. Tüm harfleri küçük harfe çeviriniz\n",
    "            # b. Noktalama işaretlerini çıkarınız\n",
    "            # c. Yorumlarda bulunan sayısal ifadeleri çıkarınız\n",
    "            # d. Bilgi içermeyen kelimeleri (stopwords) veriden çıkarınız\n",
    "            # e. 1000'den az geçen kelimeleri veriden çıkarınız\n",
    "            # f. Lemmatization işlemini uygulayınız"
   ]
  },
  {
   "cell_type": "code",
   "execution_count": 2,
   "id": "11f98767",
   "metadata": {},
   "outputs": [],
   "source": [
    "# Görev 1 Amazon datasını okuma\n",
    "file_path = \"../datasets/KOZMOS-CaseStudy/amazon-221126-161000/amazon.xlsx\"\n",
    "df = pd.read_excel(file_path)"
   ]
  },
  {
   "cell_type": "code",
   "execution_count": 3,
   "id": "90be785c",
   "metadata": {},
   "outputs": [
    {
     "name": "stdout",
     "output_type": "stream",
     "text": [
      "<class 'pandas.core.frame.DataFrame'>\n",
      "RangeIndex: 5611 entries, 0 to 5610\n",
      "Data columns (total 4 columns):\n",
      " #   Column   Non-Null Count  Dtype \n",
      "---  ------   --------------  ----- \n",
      " 0   Star     5611 non-null   int64 \n",
      " 1   HelpFul  5611 non-null   int64 \n",
      " 2   Title    5559 non-null   object\n",
      " 3   Review   5593 non-null   object\n",
      "dtypes: int64(2), object(2)\n",
      "memory usage: 175.5+ KB\n"
     ]
    }
   ],
   "source": [
    "df.info()"
   ]
  },
  {
   "cell_type": "code",
   "execution_count": 4,
   "id": "d9573a38",
   "metadata": {},
   "outputs": [
    {
     "data": {
      "text/html": [
       "<div>\n",
       "<style scoped>\n",
       "    .dataframe tbody tr th:only-of-type {\n",
       "        vertical-align: middle;\n",
       "    }\n",
       "\n",
       "    .dataframe tbody tr th {\n",
       "        vertical-align: top;\n",
       "    }\n",
       "\n",
       "    .dataframe thead th {\n",
       "        text-align: right;\n",
       "    }\n",
       "</style>\n",
       "<table border=\"1\" class=\"dataframe\">\n",
       "  <thead>\n",
       "    <tr style=\"text-align: right;\">\n",
       "      <th></th>\n",
       "      <th>Star</th>\n",
       "      <th>HelpFul</th>\n",
       "      <th>Title</th>\n",
       "      <th>Review</th>\n",
       "    </tr>\n",
       "  </thead>\n",
       "  <tbody>\n",
       "    <tr>\n",
       "      <th>0</th>\n",
       "      <td>5</td>\n",
       "      <td>0</td>\n",
       "      <td>looks great</td>\n",
       "      <td>Happy with it</td>\n",
       "    </tr>\n",
       "    <tr>\n",
       "      <th>1</th>\n",
       "      <td>5</td>\n",
       "      <td>0</td>\n",
       "      <td>Pattern did not align between the two panels.</td>\n",
       "      <td>Good quality material however the panels are m...</td>\n",
       "    </tr>\n",
       "    <tr>\n",
       "      <th>2</th>\n",
       "      <td>5</td>\n",
       "      <td>0</td>\n",
       "      <td>Imagery is stretched. Still fun.</td>\n",
       "      <td>Product was fun for bedroom windows.&lt;br /&gt;Imag...</td>\n",
       "    </tr>\n",
       "    <tr>\n",
       "      <th>3</th>\n",
       "      <td>5</td>\n",
       "      <td>0</td>\n",
       "      <td>Que se ven elegantes muy finas</td>\n",
       "      <td>Lo unico que me gustaria es que sean un poco ...</td>\n",
       "    </tr>\n",
       "    <tr>\n",
       "      <th>4</th>\n",
       "      <td>5</td>\n",
       "      <td>0</td>\n",
       "      <td>Wow great purchase</td>\n",
       "      <td>Great bang for the buck I can't believe the qu...</td>\n",
       "    </tr>\n",
       "  </tbody>\n",
       "</table>\n",
       "</div>"
      ],
      "text/plain": [
       "   Star  HelpFul                                          Title  \\\n",
       "0     5        0                                    looks great   \n",
       "1     5        0  Pattern did not align between the two panels.   \n",
       "2     5        0               Imagery is stretched. Still fun.   \n",
       "3     5        0                 Que se ven elegantes muy finas   \n",
       "4     5        0                             Wow great purchase   \n",
       "\n",
       "                                              Review  \n",
       "0                                      Happy with it  \n",
       "1  Good quality material however the panels are m...  \n",
       "2  Product was fun for bedroom windows.<br />Imag...  \n",
       "3   Lo unico que me gustaria es que sean un poco ...  \n",
       "4  Great bang for the buck I can't believe the qu...  "
      ]
     },
     "execution_count": 4,
     "metadata": {},
     "output_type": "execute_result"
    }
   ],
   "source": [
    "df.head()"
   ]
  },
  {
   "cell_type": "code",
   "execution_count": 5,
   "id": "9e325af1",
   "metadata": {},
   "outputs": [],
   "source": [
    "# Görev 2\n",
    "###############################\n",
    "# Normalizing Case Folding\n",
    "###############################\n",
    "df[\"Review\"] = df[\"Review\"].str.lower()"
   ]
  },
  {
   "cell_type": "code",
   "execution_count": 8,
   "id": "e4b09e9b",
   "metadata": {},
   "outputs": [],
   "source": [
    "# Punctuations\n",
    "df[\"Review\"] = df[\"Review\"].str.replace('[^\\w\\s]', '', regex=True)"
   ]
  },
  {
   "cell_type": "code",
   "execution_count": 10,
   "id": "283521b9",
   "metadata": {},
   "outputs": [],
   "source": [
    "# Numbers\n",
    "df[\"Review\"] = df[\"Review\"].str.replace('\\d', '', regex=True)"
   ]
  },
  {
   "cell_type": "code",
   "execution_count": 13,
   "id": "dd98aba0",
   "metadata": {},
   "outputs": [],
   "source": [
    "# Stopwords\n",
    "sw = stopwords.words('english')\n",
    "df[\"Review\"] = df[\"Review\"].apply(lambda x: \" \".join(i for i in str(x).split() if i not in sw))"
   ]
  },
  {
   "cell_type": "code",
   "execution_count": 19,
   "id": "3726ada9",
   "metadata": {},
   "outputs": [],
   "source": [
    "# Rarewords / Custom Words\n",
    "sil = pd.Series(\" \".join(df[\"Review\"]).split()).value_counts()[-1000:]\n",
    "df[\"Review\"] = df[\"Review\"].apply(lambda x: \" \".join(i for i in str(x).split() if i not in sil))"
   ]
  },
  {
   "cell_type": "code",
   "execution_count": 22,
   "id": "ed3e475d",
   "metadata": {},
   "outputs": [
    {
     "data": {
      "text/plain": [
       "'good quality material however panel mismatched'"
      ]
     },
     "execution_count": 22,
     "metadata": {},
     "output_type": "execute_result"
    }
   ],
   "source": [
    "# Lemmatization\n",
    "\" \".join(Word(word).lemmatize() for word in \"good quality material however panels mismatched\".split())"
   ]
  },
  {
   "cell_type": "code",
   "execution_count": 23,
   "id": "b7d267e3",
   "metadata": {},
   "outputs": [],
   "source": [
    "df[\"Review\"] = df[\"Review\"].apply(lambda x: \" \".join(Word(word).lemmatize() for word in x.split()))"
   ]
  },
  {
   "cell_type": "markdown",
   "id": "517b6e2a",
   "metadata": {},
   "source": [
    "\n",
    "# # Görev 2: Metin Görselleştirme\n",
    "\n",
    "# Adım 1: Barplot görselleştirme işlemi\n",
    "        # a. \"Review\" değişkeninin içerdiği kelimeleri frekanslarını hesaplayınız, tf olarak kaydediniz\n",
    "        # b. tf dataframe'inin sütunlarını yeniden adlandırınız: \"words\", \"tf\" şeklinde\n",
    "        # c. \"tf\" değişkeninin değeri 500'den çok olanlara göre filtreleme işlemi yaparak barplot ile görselleştirme işlemini tamamlayınız.\n"
   ]
  },
  {
   "cell_type": "code",
   "execution_count": 33,
   "id": "e350eb3b",
   "metadata": {},
   "outputs": [],
   "source": [
    "tf = df[\"Review\"].apply(lambda x: pd.Series(x.split()).value_counts()).sum(axis=0).reset_index()"
   ]
  },
  {
   "cell_type": "code",
   "execution_count": 37,
   "id": "bd29c32c",
   "metadata": {},
   "outputs": [
    {
     "data": {
      "image/png": "[encoded data removed]",
      "text/plain": [
       "<Figure size 640x480 with 1 Axes>"
      ]
     },
     "metadata": {},
     "output_type": "display_data"
    }
   ],
   "source": [
    "tf.columns = [\"words\", \"tf\"]\n",
    "tf[tf[\"tf\"] > 500].plot.bar(x=\"words\", y=\"tf\")\n",
    "plt.show()"
   ]
  }
 ],
 "metadata": {
  "kernelspec": {
   "display_name": "Python 3 (ipykernel)",
   "language": "python",
   "name": "python3"
  },
  "language_info": {
   "codemirror_mode": {
    "name": "ipython",
    "version": 3
   },
   "file_extension": ".py",
   "mimetype": "text/x-python",
   "name": "python",
   "nbconvert_exporter": "python",
   "pygments_lexer": "ipython3",
   "version": "3.10.13"
  }
 },
 "nbformat": 4,
 "nbformat_minor": 5
}
