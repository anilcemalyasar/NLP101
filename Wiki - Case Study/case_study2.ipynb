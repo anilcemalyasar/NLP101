{
 "cells": [
  {
   "cell_type": "code",
   "execution_count": 1,
   "id": "a028b9a2",
   "metadata": {},
   "outputs": [],
   "source": [
    "import pandas as pd\n",
    "import matplotlib.pyplot as plt\n",
    "from wordcloud import WordCloud\n",
    "from nltk.corpus import stopwords\n",
    "from textblob import Word, TextBlob\n",
    "from sklearn.feature_extraction.text import TfidfVectorizer, CountVectorizer\n",
    "from nltk.sentiment import SentimentIntensityAnalyzer\n",
    "from warnings import filterwarnings"
   ]
  },
  {
   "cell_type": "code",
   "execution_count": 2,
   "id": "98e5b4e9",
   "metadata": {},
   "outputs": [],
   "source": [
    "filterwarnings('ignore')\n",
    "pd.set_option('display.max_columns', None)\n",
    "pd.set_option('display.float_format', lambda x: '%.2f' % x)\n",
    "pd.set_option('display.width', 200)"
   ]
  },
  {
   "cell_type": "code",
   "execution_count": 35,
   "id": "25cf0b2b",
   "metadata": {},
   "outputs": [],
   "source": [
    "file_path = \"../datasets/wiki-221126-161428/wiki_data.csv\"\n",
    "df = pd.read_csv(file_path, index_col=0)"
   ]
  },
  {
   "cell_type": "code",
   "execution_count": 36,
   "id": "460d615e",
   "metadata": {
    "scrolled": true
   },
   "outputs": [
    {
     "data": {
      "text/html": [
       "<div>\n",
       "<style scoped>\n",
       "    .dataframe tbody tr th:only-of-type {\n",
       "        vertical-align: middle;\n",
       "    }\n",
       "\n",
       "    .dataframe tbody tr th {\n",
       "        vertical-align: top;\n",
       "    }\n",
       "\n",
       "    .dataframe thead th {\n",
       "        text-align: right;\n",
       "    }\n",
       "</style>\n",
       "<table border=\"1\" class=\"dataframe\">\n",
       "  <thead>\n",
       "    <tr style=\"text-align: right;\">\n",
       "      <th></th>\n",
       "      <th>text</th>\n",
       "    </tr>\n",
       "  </thead>\n",
       "  <tbody>\n",
       "    <tr>\n",
       "      <th>1</th>\n",
       "      <td>Anovo\\n\\nAnovo (formerly A Novo) is a computer...</td>\n",
       "    </tr>\n",
       "    <tr>\n",
       "      <th>2</th>\n",
       "      <td>Battery indicator\\n\\nA battery indicator (also...</td>\n",
       "    </tr>\n",
       "    <tr>\n",
       "      <th>3</th>\n",
       "      <td>Bob Pease\\n\\nRobert Allen Pease (August 22, 19...</td>\n",
       "    </tr>\n",
       "    <tr>\n",
       "      <th>4</th>\n",
       "      <td>CAVNET\\n\\nCAVNET was a secure military forum w...</td>\n",
       "    </tr>\n",
       "    <tr>\n",
       "      <th>5</th>\n",
       "      <td>CLidar\\n\\nThe CLidar is a scientific instrumen...</td>\n",
       "    </tr>\n",
       "  </tbody>\n",
       "</table>\n",
       "</div>"
      ],
      "text/plain": [
       "                                                text\n",
       "1  Anovo\\n\\nAnovo (formerly A Novo) is a computer...\n",
       "2  Battery indicator\\n\\nA battery indicator (also...\n",
       "3  Bob Pease\\n\\nRobert Allen Pease (August 22, 19...\n",
       "4  CAVNET\\n\\nCAVNET was a secure military forum w...\n",
       "5  CLidar\\n\\nThe CLidar is a scientific instrumen..."
      ]
     },
     "execution_count": 36,
     "metadata": {},
     "output_type": "execute_result"
    }
   ],
   "source": [
    "df.head()"
   ]
  },
  {
   "cell_type": "code",
   "execution_count": 37,
   "id": "e4e974df",
   "metadata": {},
   "outputs": [],
   "source": [
    "df = df[:2000]"
   ]
  },
  {
   "cell_type": "code",
   "execution_count": 38,
   "id": "bef64c10",
   "metadata": {},
   "outputs": [],
   "source": [
    "def clean_text(text):\n",
    "    \"\"\"\n",
    "    Parameters:\n",
    "        text (str): The information text given in str format\n",
    "        \n",
    "    Returns:\n",
    "        str: A preprocessed text\n",
    "    \"\"\"\n",
    "    text = text.lower()\n",
    "    text = text.replace('[^\\w\\s]', '', regex=True)\n",
    "    text = text.replace('\\d', '', regex=True)\n",
    "    text = text.replace('\\n', '', regex=True)\n",
    "    return text"
   ]
  },
  {
   "cell_type": "code",
   "execution_count": 39,
   "id": "e0fb452a",
   "metadata": {},
   "outputs": [],
   "source": [
    "df[\"text\"] = df[\"text\"].str.replace('[^\\w\\s]', '', regex=True)"
   ]
  },
  {
   "cell_type": "code",
   "execution_count": 40,
   "id": "2754a360",
   "metadata": {},
   "outputs": [],
   "source": [
    "df[\"text\"] = df[\"text\"].str.replace('\\d', '', regex=True)"
   ]
  },
  {
   "cell_type": "code",
   "execution_count": 41,
   "id": "cdc77061",
   "metadata": {},
   "outputs": [],
   "source": [
    "df[\"text\"] = df[\"text\"].str.replace('\\n', '', regex=True)"
   ]
  },
  {
   "cell_type": "code",
   "execution_count": 42,
   "id": "5be29c8c",
   "metadata": {},
   "outputs": [
    {
     "data": {
      "text/plain": [
       "1    AnovoAnovo formerly A Novo is a computer servi...\n",
       "2    Battery indicatorA battery indicator also know...\n",
       "3    Bob PeaseRobert Allen Pease August  Â â June  ...\n",
       "4    CAVNETCAVNET was a secure military forum which...\n",
       "5    CLidarThe CLidar is a scientific instrument us...\n",
       "Name: text, dtype: object"
      ]
     },
     "execution_count": 42,
     "metadata": {},
     "output_type": "execute_result"
    }
   ],
   "source": [
    "df[\"text\"].head()"
   ]
  },
  {
   "cell_type": "code",
   "execution_count": 43,
   "id": "d4599924",
   "metadata": {},
   "outputs": [
    {
     "data": {
      "text/plain": [
       "['i',\n",
       " 'me',\n",
       " 'my',\n",
       " 'myself',\n",
       " 'we',\n",
       " 'our',\n",
       " 'ours',\n",
       " 'ourselves',\n",
       " 'you',\n",
       " \"you're\",\n",
       " \"you've\",\n",
       " \"you'll\",\n",
       " \"you'd\",\n",
       " 'your',\n",
       " 'yours',\n",
       " 'yourself',\n",
       " 'yourselves',\n",
       " 'he',\n",
       " 'him',\n",
       " 'his',\n",
       " 'himself',\n",
       " 'she',\n",
       " \"she's\",\n",
       " 'her',\n",
       " 'hers',\n",
       " 'herself',\n",
       " 'it',\n",
       " \"it's\",\n",
       " 'its',\n",
       " 'itself',\n",
       " 'they',\n",
       " 'them',\n",
       " 'their',\n",
       " 'theirs',\n",
       " 'themselves',\n",
       " 'what',\n",
       " 'which',\n",
       " 'who',\n",
       " 'whom',\n",
       " 'this',\n",
       " 'that',\n",
       " \"that'll\",\n",
       " 'these',\n",
       " 'those',\n",
       " 'am',\n",
       " 'is',\n",
       " 'are',\n",
       " 'was',\n",
       " 'were',\n",
       " 'be',\n",
       " 'been',\n",
       " 'being',\n",
       " 'have',\n",
       " 'has',\n",
       " 'had',\n",
       " 'having',\n",
       " 'do',\n",
       " 'does',\n",
       " 'did',\n",
       " 'doing',\n",
       " 'a',\n",
       " 'an',\n",
       " 'the',\n",
       " 'and',\n",
       " 'but',\n",
       " 'if',\n",
       " 'or',\n",
       " 'because',\n",
       " 'as',\n",
       " 'until',\n",
       " 'while',\n",
       " 'of',\n",
       " 'at',\n",
       " 'by',\n",
       " 'for',\n",
       " 'with',\n",
       " 'about',\n",
       " 'against',\n",
       " 'between',\n",
       " 'into',\n",
       " 'through',\n",
       " 'during',\n",
       " 'before',\n",
       " 'after',\n",
       " 'above',\n",
       " 'below',\n",
       " 'to',\n",
       " 'from',\n",
       " 'up',\n",
       " 'down',\n",
       " 'in',\n",
       " 'out',\n",
       " 'on',\n",
       " 'off',\n",
       " 'over',\n",
       " 'under',\n",
       " 'again',\n",
       " 'further',\n",
       " 'then',\n",
       " 'once',\n",
       " 'here',\n",
       " 'there',\n",
       " 'when',\n",
       " 'where',\n",
       " 'why',\n",
       " 'how',\n",
       " 'all',\n",
       " 'any',\n",
       " 'both',\n",
       " 'each',\n",
       " 'few',\n",
       " 'more',\n",
       " 'most',\n",
       " 'other',\n",
       " 'some',\n",
       " 'such',\n",
       " 'no',\n",
       " 'nor',\n",
       " 'not',\n",
       " 'only',\n",
       " 'own',\n",
       " 'same',\n",
       " 'so',\n",
       " 'than',\n",
       " 'too',\n",
       " 'very',\n",
       " 's',\n",
       " 't',\n",
       " 'can',\n",
       " 'will',\n",
       " 'just',\n",
       " 'don',\n",
       " \"don't\",\n",
       " 'should',\n",
       " \"should've\",\n",
       " 'now',\n",
       " 'd',\n",
       " 'll',\n",
       " 'm',\n",
       " 'o',\n",
       " 're',\n",
       " 've',\n",
       " 'y',\n",
       " 'ain',\n",
       " 'aren',\n",
       " \"aren't\",\n",
       " 'couldn',\n",
       " \"couldn't\",\n",
       " 'didn',\n",
       " \"didn't\",\n",
       " 'doesn',\n",
       " \"doesn't\",\n",
       " 'hadn',\n",
       " \"hadn't\",\n",
       " 'hasn',\n",
       " \"hasn't\",\n",
       " 'haven',\n",
       " \"haven't\",\n",
       " 'isn',\n",
       " \"isn't\",\n",
       " 'ma',\n",
       " 'mightn',\n",
       " \"mightn't\",\n",
       " 'mustn',\n",
       " \"mustn't\",\n",
       " 'needn',\n",
       " \"needn't\",\n",
       " 'shan',\n",
       " \"shan't\",\n",
       " 'shouldn',\n",
       " \"shouldn't\",\n",
       " 'wasn',\n",
       " \"wasn't\",\n",
       " 'weren',\n",
       " \"weren't\",\n",
       " 'won',\n",
       " \"won't\",\n",
       " 'wouldn',\n",
       " \"wouldn't\"]"
      ]
     },
     "execution_count": 43,
     "metadata": {},
     "output_type": "execute_result"
    }
   ],
   "source": [
    "sw = stopwords.words(\"english\")\n",
    "sw"
   ]
  },
  {
   "cell_type": "code",
   "execution_count": 44,
   "id": "1d634de0",
   "metadata": {},
   "outputs": [],
   "source": [
    "df[\"text\"] = df[\"text\"].apply(lambda x: \" \".join(i for i in str(x).split() if i not in sw))"
   ]
  },
  {
   "cell_type": "code",
   "execution_count": 45,
   "id": "76666bf5",
   "metadata": {},
   "outputs": [
    {
     "data": {
      "text/plain": [
       "1    AnovoAnovo formerly A Novo computer services c...\n",
       "2    Battery indicatorA battery indicator also know...\n",
       "3    Bob PeaseRobert Allen Pease August Â â June an...\n",
       "4    CAVNETCAVNET secure military forum became oper...\n",
       "5    CLidarThe CLidar scientific instrument used me...\n",
       "Name: text, dtype: object"
      ]
     },
     "execution_count": 45,
     "metadata": {},
     "output_type": "execute_result"
    }
   ],
   "source": [
    "df[\"text\"].head()"
   ]
  },
  {
   "cell_type": "markdown",
   "id": "01a2fe48",
   "metadata": {},
   "source": [
    "Metinde az geçen (1000'den az, 2000'den az gibi) kelimeleri bulunuz. Ve bu kelimeleri metin içerisinden çıkartınız."
   ]
  },
  {
   "cell_type": "code",
   "execution_count": 46,
   "id": "84d79496",
   "metadata": {},
   "outputs": [
    {
     "data": {
      "text/plain": [
       "tractorsBulldozers    1\n",
       "militarized           1\n",
       "Intifada              1\n",
       "Tournadozer           1\n",
       "suppliesA             1\n",
       "                     ..\n",
       "portfire              1\n",
       "bitumen               1\n",
       "wildfireBy            1\n",
       "StarSpangled          1\n",
       "fluidssolids          1\n",
       "Name: count, Length: 1000, dtype: int64"
      ]
     },
     "execution_count": 46,
     "metadata": {},
     "output_type": "execute_result"
    }
   ],
   "source": [
    "pd.Series(\" \".join(df[\"text\"]).split()).value_counts()[-1000:]"
   ]
  },
  {
   "cell_type": "code",
   "execution_count": 47,
   "id": "a0b66bf2",
   "metadata": {},
   "outputs": [],
   "source": [
    "sil = pd.Series(' '.join(df[\"text\"]).split()).value_counts()[-1000:]\n",
    "df[\"text\"] = df[\"text\"].apply(lambda x: ' '.join(i for i in str(x).split() if i not in sil))"
   ]
  },
  {
   "cell_type": "code",
   "execution_count": 48,
   "id": "525b1e06",
   "metadata": {},
   "outputs": [
    {
     "data": {
      "text/plain": [
       "1    AnovoAnovo formerly A Novo computer services c...\n",
       "2    Battery indicatorA battery indicator also know...\n",
       "3    Bob PeaseRobert Allen Pease August Â â June an...\n",
       "4    CAVNETCAVNET secure military forum became oper...\n",
       "5    CLidarThe CLidar scientific instrument used me...\n",
       "Name: text, dtype: object"
      ]
     },
     "execution_count": 48,
     "metadata": {},
     "output_type": "execute_result"
    }
   ],
   "source": [
    "df[\"text\"].head()"
   ]
  },
  {
   "cell_type": "markdown",
   "id": "e7e014e8",
   "metadata": {},
   "source": [
    "Adım6: Metinleri tokenize edip sonuçları gözlemleyiniz."
   ]
  },
  {
   "cell_type": "code",
   "execution_count": 49,
   "id": "3a2f3f7f",
   "metadata": {},
   "outputs": [
    {
     "data": {
      "text/plain": [
       "1       [AnovoAnovo, formerly, A, Novo, computer, serv...\n",
       "2       [Battery, indicatorA, battery, indicator, also...\n",
       "3       [Bob, PeaseRobert, Allen, Pease, August, Â, â,...\n",
       "4       [CAVNETCAVNET, secure, military, forum, became...\n",
       "5       [CLidarThe, CLidar, scientific, instrument, us...\n",
       "                              ...                        \n",
       "1996    [Edinburgh, Calotype, ClubThe, Edinburgh, Calo...\n",
       "1997    [EndrinEndrin, organochloride, chemical, formu...\n",
       "1998    [Ethylene, glycol, dinitrateEthylene, glycol, ...\n",
       "1999    [Forges, de, SyamThe, Forges, de, Syam, Syam, ...\n",
       "2000    [FrankKamenetskii, theoryIn, combustion, Frank...\n",
       "Name: text, Length: 2000, dtype: object"
      ]
     },
     "execution_count": 49,
     "metadata": {},
     "output_type": "execute_result"
    }
   ],
   "source": [
    "df[\"text\"].apply(lambda x: TextBlob(x).words)"
   ]
  },
  {
   "cell_type": "markdown",
   "id": "18926e9c",
   "metadata": {},
   "source": [
    "Adım7: Lemmatization işlemi yapınız."
   ]
  },
  {
   "cell_type": "code",
   "execution_count": 61,
   "id": "1b7790ed",
   "metadata": {},
   "outputs": [
    {
     "data": {
      "text/plain": [
       "'ran'"
      ]
     },
     "execution_count": 61,
     "metadata": {},
     "output_type": "execute_result"
    }
   ],
   "source": [
    "df[\"text\"] = df[\"text\"].apply(lambda x: ' '.join([Word() for word in ]))"
   ]
  }
 ],
 "metadata": {
  "kernelspec": {
   "display_name": "Python 3 (ipykernel)",
   "language": "python",
   "name": "python3"
  },
  "language_info": {
   "codemirror_mode": {
    "name": "ipython",
    "version": 3
   },
   "file_extension": ".py",
   "mimetype": "text/x-python",
   "name": "python",
   "nbconvert_exporter": "python",
   "pygments_lexer": "ipython3",
   "version": "3.10.13"
  }
 },
 "nbformat": 4,
 "nbformat_minor": 5
}
